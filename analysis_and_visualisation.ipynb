{
 "cells": [
  {
   "cell_type": "code",
   "execution_count": 18,
   "metadata": {},
   "outputs": [],
   "source": [
    "import pandas as pd\n",
    "from plotly import plotly, tools, graph_objs\n",
    "API_KEY = 'SHHH'\n",
    "tools.set_credentials_file(username='Rafaelathaydemello', api_key=API_KEY)"
   ]
  },
  {
   "cell_type": "code",
   "execution_count": 19,
   "metadata": {},
   "outputs": [],
   "source": [
    "query = '''\n",
    "\n",
    "// Player Stats\n",
    "MATCH (brawler:Brawler)\n",
    "OPTIONAL MATCH (brawler) --> (counter:Brawler)\n",
    "RETURN\n",
    "\tbrawler.name,\n",
    "    brawler.universe,\n",
    "    brawler.rank,\n",
    "    brawler.url,\n",
    "    brawler.tier,\n",
    "    brawler.image_url_large,\n",
    "    brawler.image_url_small,\n",
    "    brawler.weight,\n",
    "    brawler.air_speed,\n",
    "    brawler.fall_speed,\n",
    "    brawler.run_speed,\n",
    "    brawler.dash_speed,\n",
    "    COUNT(counter),\n",
    "    AVG(counter.weight) as counter_avg_weight,\n",
    "    AVG(counter.air_speed) as counter_avg_air_speed,\n",
    "    AVG(counter.fall_speed) as counter_avg_fall_speed,\n",
    "    AVG(counter.run_speed) as counter_avg_run_speed,\n",
    "    AVG(counter.dash_speed) as counter_avg_dash_speed\n",
    "    \n",
    "'''\n",
    "from neomodel import db\n",
    "results, meta = db.cypher_query(query)\n"
   ]
  },
  {
   "cell_type": "code",
   "execution_count": 20,
   "metadata": {},
   "outputs": [],
   "source": [
    "df = pd.DataFrame(results, columns=meta)"
   ]
  },
  {
   "cell_type": "code",
   "execution_count": 26,
   "metadata": {},
   "outputs": [],
   "source": [
    "df_tier_stats = df.groupby('brawler.tier').mean()[['brawler.weight', 'brawler.air_speed', 'brawler.fall_speed', 'brawler.run_speed', 'brawler.dash_speed',]]"
   ]
  },
  {
   "cell_type": "code",
   "execution_count": 21,
   "metadata": {},
   "outputs": [
    {
     "data": {
      "text/html": [
       "<iframe id=\"igraph\" scrolling=\"no\" style=\"border:none;\" seamless=\"seamless\" src=\"https://plot.ly/~Rafaelathaydemello/3.embed\" height=\"525px\" width=\"100%\"></iframe>"
      ],
      "text/plain": [
       "<plotly.tools.PlotlyDisplay object>"
      ]
     },
     "execution_count": 21,
     "metadata": {},
     "output_type": "execute_result"
    }
   ],
   "source": [
    "\n",
    "\n",
    "data = [graph_objs.Scatterpolar(\n",
    "  r = [39, 28, 8, 7, 28, 39],\n",
    "  theta = ['A','B','C', 'D', 'E', 'A'],\n",
    "  fill = 'toself'\n",
    ")]\n",
    "\n",
    "layout = graph_objs.Layout(\n",
    "  polar = dict(\n",
    "    radialaxis = dict(\n",
    "      visible = True,\n",
    "      range = [0, 100]\n",
    "    )\n",
    "  ),\n",
    "  showlegend = True\n",
    ")\n",
    "\n",
    "fig = go.Figure(data=data, layout=layout)\n",
    "plotly.iplot(fig)"
   ]
  },
  {
   "cell_type": "code",
   "execution_count": null,
   "metadata": {},
   "outputs": [],
   "source": []
  }
 ],
 "metadata": {
  "kernelspec": {
   "display_name": "Python 3",
   "language": "python",
   "name": "python3"
  },
  "language_info": {
   "codemirror_mode": {
    "name": "ipython",
    "version": 3
   },
   "file_extension": ".py",
   "mimetype": "text/x-python",
   "name": "python",
   "nbconvert_exporter": "python",
   "pygments_lexer": "ipython3",
   "version": "3.7.3"
  }
 },
 "nbformat": 4,
 "nbformat_minor": 2
}
